{
 "cells": [
  {
   "cell_type": "code",
   "execution_count": 2,
   "id": "a92be9ea-2f63-4ec1-a7e9-55f0d854999b",
   "metadata": {},
   "outputs": [
    {
     "name": "stdout",
     "output_type": "stream",
     "text": [
      "Welcome to Jupyter Notebook\n"
     ]
    }
   ],
   "source": [
    "print(\"Welcome to Jupyter Notebook\")"
   ]
  },
  {
   "cell_type": "markdown",
   "id": "aa8007d5-d5c3-4ef7-9ae8-490552d09aaf",
   "metadata": {},
   "source": [
    "# we have done our first command"
   ]
  },
  {
   "cell_type": "code",
   "execution_count": null,
   "id": "025f2fc3-60b8-4f9c-aa02-2dac32cf1dcf",
   "metadata": {},
   "outputs": [],
   "source": []
  }
 ],
 "metadata": {
  "kernelspec": {
   "display_name": "Python [conda env:base] *",
   "language": "python",
   "name": "conda-base-py"
  },
  "language_info": {
   "codemirror_mode": {
    "name": "ipython",
    "version": 3
   },
   "file_extension": ".py",
   "mimetype": "text/x-python",
   "name": "python",
   "nbconvert_exporter": "python",
   "pygments_lexer": "ipython3",
   "version": "3.13.5"
  }
 },
 "nbformat": 4,
 "nbformat_minor": 5
}
