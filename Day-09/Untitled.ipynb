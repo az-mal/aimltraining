{
 "cells": [
  {
   "cell_type": "code",
   "execution_count": 6,
   "id": "c4b87397-97be-4a6c-8920-2266de007b0a",
   "metadata": {},
   "outputs": [
    {
     "name": "stdout",
     "output_type": "stream",
     "text": [
      "Welcome Jupyter Notebook\n"
     ]
    }
   ],
   "source": [
    "print(\"Welcome Jupyter Notebook\")"
   ]
  },
  {
   "cell_type": "code",
   "execution_count": 11,
   "id": "246dc3fc-e310-4268-ab74-de945cc66007",
   "metadata": {},
   "outputs": [
    {
     "name": "stdout",
     "output_type": "stream",
     "text": [
      "Again\n"
     ]
    }
   ],
   "source": [
    "print(\"Again\")"
   ]
  },
  {
   "cell_type": "code",
   "execution_count": 10,
   "id": "8231c2fd-50f7-48c1-b092-c7baab4483c4",
   "metadata": {},
   "outputs": [
    {
     "name": "stdout",
     "output_type": "stream",
     "text": [
      "Next Run\n"
     ]
    }
   ],
   "source": [
    "print(\"Next Run\")"
   ]
  },
  {
   "cell_type": "code",
   "execution_count": null,
   "id": "49f05925-5b21-4ec2-b350-ca946a7bd518",
   "metadata": {},
   "outputs": [],
   "source": []
  }
 ],
 "metadata": {
  "kernelspec": {
   "display_name": "Python [conda env:base] *",
   "language": "python",
   "name": "conda-base-py"
  },
  "language_info": {
   "codemirror_mode": {
    "name": "ipython",
    "version": 3
   },
   "file_extension": ".py",
   "mimetype": "text/x-python",
   "name": "python",
   "nbconvert_exporter": "python",
   "pygments_lexer": "ipython3",
   "version": "3.13.5"
  },
  "panel-cell-order": [
   "94eddf85-addc-48fd-9acd-da02b279e937"
  ]
 },
 "nbformat": 4,
 "nbformat_minor": 5
}
