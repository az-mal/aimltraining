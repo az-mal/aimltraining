{
 "cells": [
  {
   "cell_type": "markdown",
   "id": "688eaf22-f172-47f3-9602-034c5fa80c5f",
   "metadata": {},
   "source": [
    "# First Note Book\n",
    "## Steps to Print a Single Line\n",
    "    We will create Code Cell\n",
    "    We will write print command\n",
    "    We will run the cell"
   ]
  },
  {
   "cell_type": "code",
   "execution_count": 1,
   "id": "12ed2728-b321-4e39-8630-c94a9e292860",
   "metadata": {
    "scrolled": true
   },
   "outputs": [
    {
     "name": "stdout",
     "output_type": "stream",
     "text": [
      "Welcome to Python Note Book\n"
     ]
    }
   ],
   "source": [
    "print(\"Welcome to Python Note Book\")"
   ]
  },
  {
   "cell_type": "code",
   "execution_count": 2,
   "id": "283950a9-482d-4e06-a445-dfe4910a9f91",
   "metadata": {},
   "outputs": [
    {
     "name": "stdout",
     "output_type": "stream",
     "text": [
      "1\t2\t3\t4\t5\t6\t7\t8\t9\t10\t11\t12\t13\t14\t15\t16\t17\t18\t19\t20\t21\t22\t23\t24\t25\t26\t27\t28\t29\t30\t31\t32\t33\t34\t35\t36\t37\t38\t39\t40\t41\t42\t43\t44\t45\t46\t47\t48\t49\t50\t51\t52\t53\t54\t55\t56\t57\t58\t59\t60\t61\t62\t63\t64\t65\t66\t67\t68\t69\t70\t71\t72\t73\t74\t75\t76\t77\t78\t79\t80\t81\t82\t83\t84\t85\t86\t87\t88\t89\t90\t91\t92\t93\t94\t95\t96\t97\t98\t99\t100\t"
     ]
    }
   ],
   "source": [
    "for num in range(1,101):\n",
    "    print(num,end=\"\\t\")"
   ]
  },
  {
   "cell_type": "code",
   "execution_count": 8,
   "id": "5d99338d-6bf3-435f-8522-c763b86883e0",
   "metadata": {},
   "outputs": [],
   "source": [
    "players=(\"Ms. Dhoni\",\"Moin Ali\",\"Rashid Khan\",\"David Warner\",\"Joe Root\",\"Adam\",\"Sunil Narin\")"
   ]
  },
  {
   "cell_type": "code",
   "execution_count": 9,
   "id": "55e6ed0c-c9d6-431b-8315-c4f2ab54220e",
   "metadata": {},
   "outputs": [
    {
     "name": "stdout",
     "output_type": "stream",
     "text": [
      "Ms. Dhoni\n",
      "Moin Ali\n",
      "Rashid Khan\n",
      "David Warner\n",
      "Joe Root\n",
      "Adam\n",
      "Sunil Narin\n"
     ]
    }
   ],
   "source": [
    "for player in players:\n",
    "    print(player)"
   ]
  },
  {
   "cell_type": "code",
   "execution_count": 11,
   "id": "57a8b9a0-fbc5-4a8e-9e8d-b064c5f5af5b",
   "metadata": {},
   "outputs": [
    {
     "name": "stdout",
     "output_type": "stream",
     "text": [
      "Welcome\n"
     ]
    }
   ],
   "source": [
    "print(\"Welcome\")"
   ]
  },
  {
   "cell_type": "code",
   "execution_count": 12,
   "id": "80e0ea83-f147-425d-987a-be232852a150",
   "metadata": {},
   "outputs": [
    {
     "name": "stdout",
     "output_type": "stream",
     "text": [
      "Welcome Again\n",
      "One More Thing\n"
     ]
    }
   ],
   "source": [
    "print(\"Welcome Again\")\n",
    "print(\"One More Thing\")"
   ]
  }
 ],
 "metadata": {
  "kernelspec": {
   "display_name": "Python [conda env:base] *",
   "language": "python",
   "name": "conda-base-py"
  },
  "language_info": {
   "codemirror_mode": {
    "name": "ipython",
    "version": 3
   },
   "file_extension": ".py",
   "mimetype": "text/x-python",
   "name": "python",
   "nbconvert_exporter": "python",
   "pygments_lexer": "ipython3",
   "version": "3.13.5"
  }
 },
 "nbformat": 4,
 "nbformat_minor": 5
}
